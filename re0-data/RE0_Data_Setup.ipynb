{
 "cells": [
  {
   "cell_type": "markdown",
   "id": "5ad11ba6",
   "metadata": {},
   "source": [
    "# About\n",
    "This Jupyter notebook contains code for extracting dialogue from different games. To do this, the code will:\n",
    "* Look for a file within the working directory (the directory in which this Jupyter notebook resides)\n",
    "* Extract dialogue from the file using regular expressions\n",
    "* Clean the dialogue to remove extraneous characters, spaces, and punctuation\n",
    "* Convert that data into a dataframe where speakers make up one column and lines make up another column\n",
    "* Create different visualizations based on the contents of that data\n",
    "\n",
    "Additionally, the notebook contains code for saving cleaned dialogues and dataframes (in the event that we need to redo some of our steps)."
   ]
  },
  {
   "cell_type": "markdown",
   "id": "8b664f27",
   "metadata": {},
   "source": [
    "# Step 1: Extracting the Data\n",
    "Assume that the contents of the transcripts have been copied and pasted into `.txt` files that stored within the current **working directory**.\n",
    "The working directory is the folder that contains this Jupyter notebook. For example:\n",
    "```\n",
    "is-278-resident-evil-data-viz/\n",
    "├── RE0-data / <-- This is the working directory\n",
    "|   ├── RE0_Data_Setup.ipynb \n",
    "|   └── RE0_Transcript.txt\n",
    "```\n",
    "While we could scrape websites for transcripts, some of the websites we're referencing for this project are known to block web-crawling attempts, despite the robots.txt files suggesting otherwise.<br>\n",
    "Once we set up the project, we can start thinking about cleaning the data.<br>\n",
    "Opening and reading the contents of the `.txt` files requires us to know the locations of the files. We can retrieve this information with the `os` module."
   ]
  },
  {
   "cell_type": "code",
   "execution_count": 2,
   "id": "1bd42b71",
   "metadata": {},
   "outputs": [],
   "source": [
    "import os # Allows us to retrieve file paths\n",
    "\n",
    "def get_path_to_file(file: str) -> str:\n",
    "    ''' Returns the path to a file in a working directory.\n",
    "        Note that function will still return a path even if the file\n",
    "        doesn't exist in that directory.'''\n",
    "    return os.path.realpath(file)"
   ]
  },
  {
   "cell_type": "markdown",
   "id": "90aa4aab",
   "metadata": {},
   "source": [
    "We know from skimming the transcripts that all dialogue comes in the format `SPEAKER: LINE`, where `SPEAKER` is the name of a character (i.e. \"Barry\") and `LINE` is the character's dialogue (i.e. \"That was too close. You were almost a Jill sandwich.\"). Based on this pattern, we can create a **regular expression (regex)** and the `re` module to find and capture lines in this format.<br>\n",
    "Our regex is `^[A-Z]{1}[A-Za-z '.]+:{1}(.+[\\n|\\r\\n|\\r])*`. It'll match any line with the following characteristics:\n",
    "* The first part of the sentence must contain a word that begins with a capital letter and is followed by one or more letters, spaces, or apostrophes\n",
    "* The second part of the sentence must contain a character followed by a newline character\n",
    "* Both parts of the sentence must be separated by exactly one colon\n",
    "\n",
    "As an unintended consequence, this method will also capture lines that are formatted like dialogue but are not actually lines of dialogue. For example, the line \"To: Emily\" will be captured by the regex, even though it represents an email header. But such mistakes can be removed during the cleaning process."
   ]
  },
  {
   "cell_type": "markdown",
   "id": "65964405",
   "metadata": {},
   "source": [
    "To save time, we're going to pre-emptively perform some data cleaning during the data extraction phase. If we find any lines that match the `SPEAKER: LINE` format, we're going to:\n",
    "* Remove extraneous newline characters and spaces\n",
    "* Remove extraneous punctuation (i.e. quotation marks around dialogue that have been added in by transcribers for stylistic reasons)\n",
    "* Standardize character names such that every part of the name is capitalized (i.e. \"JILL\" becomes \"Jill\" and \"Woman in red\" becomes \"Woman in Red\")"
   ]
  },
  {
   "cell_type": "code",
   "execution_count": 4,
   "id": "575e92ec",
   "metadata": {},
   "outputs": [],
   "source": [
    "import re # Allows us to identify patterns in lines\n",
    "\n",
    "# Helper functions for identifying speakers and their lines of dialogue\n",
    "def get_speaker(line: str) -> str:\n",
    "    ''' Returns the name of the pe}rson who spoke a line of dialogue. '''\n",
    "    return line[:line.find(':')].strip()\n",
    "\n",
    "def get_speech(line: str) -> str:\n",
    "    ''' Returns a line of dialogue. '''\n",
    "    return line[line.find(':') + 2:].strip() # (+2) to skip the colon and space\n",
    "\n",
    "def replace_newline_characters(line: str) -> str:\n",
    "    ''' Replaces all the newline characters with spaces. '''\n",
    "    return line.replace('\\n', ' ').replace('\\r\\n', ' ').replace('\\r', ' ')\n",
    "\n",
    "def replace_typewriter_space(line: str) -> str:\n",
    "    ''' Replaces two spaces with a single space. '''\n",
    "    return line.replace('  ', ' ')\n",
    "\n",
    "def replace_quotation_marks(line: str) -> str:\n",
    "    ''' Removes quotation marks. '''\n",
    "    return line.replace('\"', '')\n",
    "\n",
    "def capitalize_speaker(line: str) -> str:\n",
    "    ''' Standardizes speaker name formats by capitalizing names. '''\n",
    "    return get_speaker(line).title() + ': ' + get_speech(line) + '\\n'\n",
    "\n",
    "def get_cleaned_line(line: str) -> str:\n",
    "    ''' Standardizes the formatting of a line by removing extraneous characters\n",
    "        and capitalizing speaker names. '''\n",
    "    line = replace_newline_characters(line)\n",
    "    line = replace_typewriter_space(line)\n",
    "    line = replace_quotation_marks(line)\n",
    "    line = capitalize_speaker(line)\n",
    "    return line \n",
    "\n",
    "def get_dialogue(input: str) -> list:\n",
    "    ''' Returns a list of lines representing direct game dialogue\n",
    "        from a transcript. '''\n",
    "    dialouge = []\n",
    "    with open(input, 'r', encoding = 'utf-8') as file: # UTF-8-SIG = UTF-8 BOM\n",
    "        for line in re.finditer(\"^[A-Z]{1}[A-Za-z '.]+:{1}(.+[\\n|\\r\\n|\\r])*\", file.read(), re.MULTILINE):\n",
    "            line = get_cleaned_line(line.group(0))\n",
    "            if (len(line[line.find(':') + 2:]) == 1): # Skip empty lines\n",
    "                continue\n",
    "            dialouge.append(line)\n",
    "    return dialouge"
   ]
  },
  {
   "cell_type": "markdown",
   "id": "a3251957",
   "metadata": {},
   "source": [
    "Once we've extracted the dialogue, we can convert our data into a `.txt` file, which we can then manually check for errors."
   ]
  },
  {
   "cell_type": "code",
   "execution_count": 122,
   "id": "c8f0e46e",
   "metadata": {},
   "outputs": [],
   "source": [
    "def save_dialogue(output: str, dialogue: list) -> None:\n",
    "    ''' Saves extracted dialogue to a new .txt file. If a file with the same name exists, \n",
    "        in the current working directory, that file will be replaced. '''\n",
    "    with open(output, 'w', encoding = 'utf-8') as file:\n",
    "        for line in dialogue:\n",
    "            file.write(line)\n",
    "\n",
    "def extract_dialogue(input: str, output: str) -> None:\n",
    "    ''' Extracts dialogue from a transcript and saves that dialogue to a new .csv file. '''\n",
    "    save_dialogue(output, get_dialogue(input))\n",
    "\n",
    "extract_dialogue(get_path_to_file('RE0_Transcript.txt'), get_path_to_file('RE0_Extracted_Transcript.txt'))"
   ]
  },
  {
   "cell_type": "markdown",
   "id": "8de9480f",
   "metadata": {},
   "source": [
    "## Step 2: Validating the Data\n",
    "After extracting the data, we can open the new `.txt` file, skim the contents, and fix errors that were not caught during our pre-emptive data cleaning phase.<br>\n",
    "This is the point where we try to add in missing dialogue and correct obvious errors (such as improperly separated lines). We can also cross-reference the extracted data against other data sources to increase the accuracy and completeness of our dataset.\n",
    "For *Resident Evil 0*, I cross-referenced the extracted transcript against the [*Resident Evil Wiki*'s transcripts](https://residentevil.fandom.com/wiki/Template:Resident_Evil_0_cutscenes)."
   ]
  },
  {
   "cell_type": "markdown",
   "id": "32076e4f",
   "metadata": {},
   "source": [
    "## Step 3: Cleaning the Data\n",
    "We can now convert the contents of our processed `.txt` file into a `pandas.DataFrame` and reorganize the data. This requires us to install and import `pandas`."
   ]
  },
  {
   "cell_type": "code",
   "execution_count": 223,
   "id": "92d924a9",
   "metadata": {},
   "outputs": [
    {
     "data": {
      "text/html": [
       "<div>\n",
       "<style scoped>\n",
       "    .dataframe tbody tr th:only-of-type {\n",
       "        vertical-align: middle;\n",
       "    }\n",
       "\n",
       "    .dataframe tbody tr th {\n",
       "        vertical-align: top;\n",
       "    }\n",
       "\n",
       "    .dataframe thead th {\n",
       "        text-align: right;\n",
       "    }\n",
       "</style>\n",
       "<table border=\"1\" class=\"dataframe\">\n",
       "  <thead>\n",
       "    <tr style=\"text-align: right;\">\n",
       "      <th></th>\n",
       "      <th>Character</th>\n",
       "      <th>Line</th>\n",
       "    </tr>\n",
       "  </thead>\n",
       "  <tbody>\n",
       "    <tr>\n",
       "      <th>0</th>\n",
       "      <td>Narrator's Voice</td>\n",
       "      <td>A small mid-western town in America: Raccoon C...</td>\n",
       "    </tr>\n",
       "    <tr>\n",
       "      <th>1</th>\n",
       "      <td>Man</td>\n",
       "      <td>Really?</td>\n",
       "    </tr>\n",
       "    <tr>\n",
       "      <th>2</th>\n",
       "      <td>Woman</td>\n",
       "      <td>Hmm, do you think so too?</td>\n",
       "    </tr>\n",
       "    <tr>\n",
       "      <th>3</th>\n",
       "      <td>Bald Man</td>\n",
       "      <td>Yeah.</td>\n",
       "    </tr>\n",
       "    <tr>\n",
       "      <th>4</th>\n",
       "      <td>White Man</td>\n",
       "      <td>.do about it?</td>\n",
       "    </tr>\n",
       "    <tr>\n",
       "      <th>...</th>\n",
       "      <td>...</td>\n",
       "      <td>...</td>\n",
       "    </tr>\n",
       "    <tr>\n",
       "      <th>228</th>\n",
       "      <td>Billy</td>\n",
       "      <td>Rebecca, hurry!</td>\n",
       "    </tr>\n",
       "    <tr>\n",
       "      <th>229</th>\n",
       "      <td>Rebecca</td>\n",
       "      <td>Hey that must be the old mansion Enrico was ta...</td>\n",
       "    </tr>\n",
       "    <tr>\n",
       "      <th>230</th>\n",
       "      <td>Rebecca</td>\n",
       "      <td>I guess it's time to say goodbye. Officially, ...</td>\n",
       "    </tr>\n",
       "    <tr>\n",
       "      <th>231</th>\n",
       "      <td>Billy</td>\n",
       "      <td>Yeah, I'm just a zombie now.</td>\n",
       "    </tr>\n",
       "    <tr>\n",
       "      <th>232</th>\n",
       "      <td>Billy</td>\n",
       "      <td>Thank you, Rebecca.</td>\n",
       "    </tr>\n",
       "  </tbody>\n",
       "</table>\n",
       "<p>233 rows × 2 columns</p>\n",
       "</div>"
      ],
      "text/plain": [
       "            Character                                               Line\n",
       "0    Narrator's Voice  A small mid-western town in America: Raccoon C...\n",
       "1                 Man                                            Really?\n",
       "2               Woman                          Hmm, do you think so too?\n",
       "3            Bald Man                                              Yeah.\n",
       "4           White Man                                      .do about it?\n",
       "..                ...                                                ...\n",
       "228             Billy                                    Rebecca, hurry!\n",
       "229           Rebecca  Hey that must be the old mansion Enrico was ta...\n",
       "230           Rebecca  I guess it's time to say goodbye. Officially, ...\n",
       "231             Billy                       Yeah, I'm just a zombie now.\n",
       "232             Billy                                Thank you, Rebecca.\n",
       "\n",
       "[233 rows x 2 columns]"
      ]
     },
     "execution_count": 223,
     "metadata": {},
     "output_type": "execute_result"
    }
   ],
   "source": [
    "import pandas # Allows us to create and manipulate DataFrames\n",
    "\n",
    "def get_dataframe(input: str) -> pandas.DataFrame:\n",
    "    ''' Creates a dataframe from a processed transcript. '''\n",
    "    data = []\n",
    "    with open(input, 'r', encoding = 'utf-8') as file:\n",
    "        for line in file:\n",
    "            data.append([get_speaker(line), get_speech(line)]) # Pandas accepts a list of lists as an argument\n",
    "    return pandas.DataFrame(data, columns = ['Character', 'Line'])\n",
    "\n",
    "re0_data = get_dataframe(get_path_to_file('RE0_Extracted_Transcript.txt'))\n",
    "re0_data"
   ]
  },
  {
   "cell_type": "markdown",
   "id": "b4cc4c51",
   "metadata": {},
   "source": [
    "One change we might want to do is standardizing names within the dataset. If you've looked through the *Resident Evil 0* transcript, you might have noticed that characters sometimes are referenced with different aliases. The character, Rebecca, for instance, has lines under the alias `Rebecca` and `Rebecca's Voice`. It would easier to do data analysis if all the lines were grouped under the name `Rebecca`.<br>\n",
    "We can see all the characters contained within the current dataset by calling the `unique()` function on the `Character` column."
   ]
  },
  {
   "cell_type": "code",
   "execution_count": 224,
   "id": "8f5c871f",
   "metadata": {},
   "outputs": [
    {
     "data": {
      "text/plain": [
       "array([\"Narrator's Voice\", 'Man', 'Woman', 'Bald Man', 'White Man',\n",
       "       'Black Man', 'Man With Glasses', \"Rebecca's Voice\", 'Enrico',\n",
       "       'Edward', 'Rebecca', 'Billy', 'Soldier', 'Wesker', 'Birkin',\n",
       "       'Marcus', 'Queen Leech', 'Commander', 'Computer', 'Computer Voice'],\n",
       "      dtype=object)"
      ]
     },
     "execution_count": 224,
     "metadata": {},
     "output_type": "execute_result"
    }
   ],
   "source": [
    "re0_data['Character'].unique()"
   ]
  },
  {
   "cell_type": "markdown",
   "id": "c9225f91",
   "metadata": {},
   "source": [
    "We can then quickly replace related character names using a dictionary."
   ]
  },
  {
   "cell_type": "code",
   "execution_count": 225,
   "id": "9c3d9bdb",
   "metadata": {},
   "outputs": [
    {
     "data": {
      "text/plain": [
       "array(['Narrator', 'Man', 'Woman', 'Bald Man', 'White Man', 'Black Man',\n",
       "       'Man With Glasses', 'Rebecca', 'Enrico', 'Edward', 'Billy',\n",
       "       'Soldier', 'Wesker', 'Birkin', 'Marcus', 'Queen Leech',\n",
       "       'Commander', 'Computer'], dtype=object)"
      ]
     },
     "execution_count": 225,
     "metadata": {},
     "output_type": "execute_result"
    }
   ],
   "source": [
    "aliases = {\"Computer Voice\": \"Computer\",\n",
    "           \"Narrator's Voice\": \"Narrator\",\n",
    "           \"Rebecca's Voice\": \"Rebecca\"}\n",
    "\n",
    "re0_data['Character'] = re0_data['Character'].replace(aliases)\n",
    "re0_data['Character'].unique()"
   ]
  },
  {
   "cell_type": "markdown",
   "id": "bbad5d6f",
   "metadata": {},
   "source": [
    "Because we are also interested in tracking gender representation, we may also want to assign each character a gender."
   ]
  },
  {
   "cell_type": "code",
   "execution_count": 226,
   "id": "cdb4b010",
   "metadata": {},
   "outputs": [
    {
     "data": {
      "text/html": [
       "<div>\n",
       "<style scoped>\n",
       "    .dataframe tbody tr th:only-of-type {\n",
       "        vertical-align: middle;\n",
       "    }\n",
       "\n",
       "    .dataframe tbody tr th {\n",
       "        vertical-align: top;\n",
       "    }\n",
       "\n",
       "    .dataframe thead th {\n",
       "        text-align: right;\n",
       "    }\n",
       "</style>\n",
       "<table border=\"1\" class=\"dataframe\">\n",
       "  <thead>\n",
       "    <tr style=\"text-align: right;\">\n",
       "      <th></th>\n",
       "      <th>Character</th>\n",
       "      <th>Gender</th>\n",
       "      <th>Line</th>\n",
       "    </tr>\n",
       "  </thead>\n",
       "  <tbody>\n",
       "    <tr>\n",
       "      <th>0</th>\n",
       "      <td>Narrator</td>\n",
       "      <td>&lt;NA&gt;</td>\n",
       "      <td>A small mid-western town in America: Raccoon C...</td>\n",
       "    </tr>\n",
       "    <tr>\n",
       "      <th>1</th>\n",
       "      <td>Man</td>\n",
       "      <td>Male</td>\n",
       "      <td>Really?</td>\n",
       "    </tr>\n",
       "    <tr>\n",
       "      <th>2</th>\n",
       "      <td>Woman</td>\n",
       "      <td>Female</td>\n",
       "      <td>Hmm, do you think so too?</td>\n",
       "    </tr>\n",
       "    <tr>\n",
       "      <th>3</th>\n",
       "      <td>Bald Man</td>\n",
       "      <td>Male</td>\n",
       "      <td>Yeah.</td>\n",
       "    </tr>\n",
       "    <tr>\n",
       "      <th>4</th>\n",
       "      <td>White Man</td>\n",
       "      <td>Male</td>\n",
       "      <td>.do about it?</td>\n",
       "    </tr>\n",
       "    <tr>\n",
       "      <th>...</th>\n",
       "      <td>...</td>\n",
       "      <td>...</td>\n",
       "      <td>...</td>\n",
       "    </tr>\n",
       "    <tr>\n",
       "      <th>228</th>\n",
       "      <td>Billy</td>\n",
       "      <td>Male</td>\n",
       "      <td>Rebecca, hurry!</td>\n",
       "    </tr>\n",
       "    <tr>\n",
       "      <th>229</th>\n",
       "      <td>Rebecca</td>\n",
       "      <td>Female</td>\n",
       "      <td>Hey that must be the old mansion Enrico was ta...</td>\n",
       "    </tr>\n",
       "    <tr>\n",
       "      <th>230</th>\n",
       "      <td>Rebecca</td>\n",
       "      <td>Female</td>\n",
       "      <td>I guess it's time to say goodbye. Officially, ...</td>\n",
       "    </tr>\n",
       "    <tr>\n",
       "      <th>231</th>\n",
       "      <td>Billy</td>\n",
       "      <td>Male</td>\n",
       "      <td>Yeah, I'm just a zombie now.</td>\n",
       "    </tr>\n",
       "    <tr>\n",
       "      <th>232</th>\n",
       "      <td>Billy</td>\n",
       "      <td>Male</td>\n",
       "      <td>Thank you, Rebecca.</td>\n",
       "    </tr>\n",
       "  </tbody>\n",
       "</table>\n",
       "<p>233 rows × 3 columns</p>\n",
       "</div>"
      ],
      "text/plain": [
       "     Character  Gender                                               Line\n",
       "0     Narrator    <NA>  A small mid-western town in America: Raccoon C...\n",
       "1          Man    Male                                            Really?\n",
       "2        Woman  Female                          Hmm, do you think so too?\n",
       "3     Bald Man    Male                                              Yeah.\n",
       "4    White Man    Male                                      .do about it?\n",
       "..         ...     ...                                                ...\n",
       "228      Billy    Male                                    Rebecca, hurry!\n",
       "229    Rebecca  Female  Hey that must be the old mansion Enrico was ta...\n",
       "230    Rebecca  Female  I guess it's time to say goodbye. Officially, ...\n",
       "231      Billy    Male                       Yeah, I'm just a zombie now.\n",
       "232      Billy    Male                                Thank you, Rebecca.\n",
       "\n",
       "[233 rows x 3 columns]"
      ]
     },
     "execution_count": 226,
     "metadata": {},
     "output_type": "execute_result"
    }
   ],
   "source": [
    "re0_genders = {'Narrator': pandas.NA,\n",
    "           'Man': 'Male',\n",
    "           'Woman': 'Female',\n",
    "           'Bald Man': 'Male',\n",
    "           'White Man': 'Male',\n",
    "           'Man With Glasses': 'Male',\n",
    "           'Rebecca': 'Female',\n",
    "           'Enrico': 'Male',\n",
    "           'Edward': 'Male',\n",
    "           'Billy': 'Male',\n",
    "           'Soldier': pandas.NA,\n",
    "           'Wesker': 'Male',\n",
    "           'Birkin': 'Male',\n",
    "           'Marcus': 'Male',\n",
    "           'Queen Leech': pandas.NA, # The Wiki calls Queen Leech an it (animal / monster)\n",
    "           'Commander': pandas.NA, \n",
    "           'Computer': pandas.NA}\n",
    "\n",
    "re0_data['Gender'] = re0_data['Character'].map(re0_genders)\n",
    "re0_data.insert(1, 'Gender', re0_data.pop('Gender')) # Shift the order of columns\n",
    "re0_data"
   ]
  },
  {
   "cell_type": "markdown",
   "id": "7b657200",
   "metadata": {},
   "source": [
    "# Step 4: Analyzing the Data\n",
    "We can now attempt to explore the dataset using `matplotlib`."
   ]
  },
  {
   "cell_type": "code",
   "execution_count": 227,
   "id": "016d23fc",
   "metadata": {},
   "outputs": [],
   "source": [
    "import matplotlib.pyplot as plt # Needed to create data visualizations"
   ]
  },
  {
   "cell_type": "markdown",
   "id": "6f0563be",
   "metadata": {},
   "source": [
    "Here are some questions we can ask and answer using our dataset.\n",
    "## Question 1: How many times do female characters speak compared to male characters?"
   ]
  },
  {
   "cell_type": "code",
   "execution_count": 228,
   "id": "698fdd10",
   "metadata": {},
   "outputs": [
    {
     "data": {
      "text/plain": [
       "Gender\n",
       "Male      124\n",
       "Female     93\n",
       "Name: count, dtype: int64"
      ]
     },
     "execution_count": 228,
     "metadata": {},
     "output_type": "execute_result"
    }
   ],
   "source": [
    "# Count the frequencies of each gender within the dataset\n",
    "re0_gender_counts = re0_data['Gender'].value_counts()\n",
    "re0_gender_counts"
   ]
  },
  {
   "cell_type": "code",
   "execution_count": 247,
   "id": "eb45a487",
   "metadata": {},
   "outputs": [
    {
     "data": {
      "image/png": "[encoded data removed]",
      "text/plain": [
       "<Figure size 600x800 with 1 Axes>"
      ]
     },
     "metadata": {},
     "output_type": "display_data"
    }
   ],
   "source": [
    "# Create the visualization (in this case, a bar chart)\n",
    "plt.figure(figsize = (6, 8))\n",
    "plt.title('Total Number of Lines By Gender (Resident Evil 0)')\n",
    "plt.xlabel('Gender')\n",
    "plt.ylabel('Number of Lines')\n",
    "\n",
    "# Plot the data\n",
    "ax = re0_gender_counts.plot(kind = 'bar', color = ['SteelBlue', 'FireBrick', 'LightGray', 'LightGray'])\n",
    "# Add labels for clarity\n",
    "for patch in ax.patches:\n",
    "    ax.annotate(f'{patch.get_height()}', (patch.get_x() + patch.get_width() / 2, patch.get_height() + 2),\n",
    "                    ha = 'center', va = 'center')\n",
    "plt.show()"
   ]
  },
  {
   "cell_type": "markdown",
   "id": "d01048a0",
   "metadata": {},
   "source": [
    "### Question 2: How long do female characters speak compared to male characters?\n",
    "In order to answer this question, we need to remove emotes and actions (i.e. (gasps)) from the dialogue. We can achieve this using another regex. The regex we're using is `\\(.*\\)`, which will capture any characters contained within a set of parentheses (as well the parentheses themselves)."
   ]
  },
  {
   "cell_type": "code",
   "execution_count": 230,
   "id": "2358aacb",
   "metadata": {},
   "outputs": [
    {
     "data": {
      "text/html": [
       "<div>\n",
       "<style scoped>\n",
       "    .dataframe tbody tr th:only-of-type {\n",
       "        vertical-align: middle;\n",
       "    }\n",
       "\n",
       "    .dataframe tbody tr th {\n",
       "        vertical-align: top;\n",
       "    }\n",
       "\n",
       "    .dataframe thead th {\n",
       "        text-align: right;\n",
       "    }\n",
       "</style>\n",
       "<table border=\"1\" class=\"dataframe\">\n",
       "  <thead>\n",
       "    <tr style=\"text-align: right;\">\n",
       "      <th></th>\n",
       "      <th>Character</th>\n",
       "      <th>Gender</th>\n",
       "      <th>Line</th>\n",
       "    </tr>\n",
       "  </thead>\n",
       "  <tbody>\n",
       "    <tr>\n",
       "      <th>0</th>\n",
       "      <td>Narrator</td>\n",
       "      <td>&lt;NA&gt;</td>\n",
       "      <td>A small mid-western town in America: Raccoon C...</td>\n",
       "    </tr>\n",
       "    <tr>\n",
       "      <th>1</th>\n",
       "      <td>Man</td>\n",
       "      <td>Male</td>\n",
       "      <td>Really?</td>\n",
       "    </tr>\n",
       "    <tr>\n",
       "      <th>2</th>\n",
       "      <td>Woman</td>\n",
       "      <td>Female</td>\n",
       "      <td>Hmm, do you think so too?</td>\n",
       "    </tr>\n",
       "    <tr>\n",
       "      <th>3</th>\n",
       "      <td>Bald Man</td>\n",
       "      <td>Male</td>\n",
       "      <td>Yeah.</td>\n",
       "    </tr>\n",
       "    <tr>\n",
       "      <th>4</th>\n",
       "      <td>White Man</td>\n",
       "      <td>Male</td>\n",
       "      <td>.do about it?</td>\n",
       "    </tr>\n",
       "    <tr>\n",
       "      <th>...</th>\n",
       "      <td>...</td>\n",
       "      <td>...</td>\n",
       "      <td>...</td>\n",
       "    </tr>\n",
       "    <tr>\n",
       "      <th>228</th>\n",
       "      <td>Billy</td>\n",
       "      <td>Male</td>\n",
       "      <td>Rebecca, hurry!</td>\n",
       "    </tr>\n",
       "    <tr>\n",
       "      <th>229</th>\n",
       "      <td>Rebecca</td>\n",
       "      <td>Female</td>\n",
       "      <td>Hey that must be the old mansion Enrico was ta...</td>\n",
       "    </tr>\n",
       "    <tr>\n",
       "      <th>230</th>\n",
       "      <td>Rebecca</td>\n",
       "      <td>Female</td>\n",
       "      <td>I guess it's time to say goodbye. Officially, ...</td>\n",
       "    </tr>\n",
       "    <tr>\n",
       "      <th>231</th>\n",
       "      <td>Billy</td>\n",
       "      <td>Male</td>\n",
       "      <td>Yeah, I'm just a zombie now.</td>\n",
       "    </tr>\n",
       "    <tr>\n",
       "      <th>232</th>\n",
       "      <td>Billy</td>\n",
       "      <td>Male</td>\n",
       "      <td>Thank you, Rebecca.</td>\n",
       "    </tr>\n",
       "  </tbody>\n",
       "</table>\n",
       "<p>233 rows × 3 columns</p>\n",
       "</div>"
      ],
      "text/plain": [
       "     Character  Gender                                               Line\n",
       "0     Narrator    <NA>  A small mid-western town in America: Raccoon C...\n",
       "1          Man    Male                                            Really?\n",
       "2        Woman  Female                          Hmm, do you think so too?\n",
       "3     Bald Man    Male                                              Yeah.\n",
       "4    White Man    Male                                      .do about it?\n",
       "..         ...     ...                                                ...\n",
       "228      Billy    Male                                    Rebecca, hurry!\n",
       "229    Rebecca  Female  Hey that must be the old mansion Enrico was ta...\n",
       "230    Rebecca  Female  I guess it's time to say goodbye. Officially, ...\n",
       "231      Billy    Male                       Yeah, I'm just a zombie now.\n",
       "232      Billy    Male                                Thank you, Rebecca.\n",
       "\n",
       "[233 rows x 3 columns]"
      ]
     },
     "execution_count": 230,
     "metadata": {},
     "output_type": "execute_result"
    }
   ],
   "source": [
    "import re\n",
    "\n",
    "def remove_stage_directions(line: str) -> str:\n",
    "    ''' Removes stage directions \n",
    "        (phrases contained within parentheses). '''\n",
    "    return re.sub(\"\\(.*\\)\", '', line)\n",
    "\n",
    "# Remove stage directions from the dataset\n",
    "re0_data['Line'] = re0_data['Line'].apply(remove_stage_directions)\n",
    "re0_data"
   ]
  },
  {
   "cell_type": "code",
   "execution_count": 231,
   "id": "ef5c2946",
   "metadata": {},
   "outputs": [
    {
     "data": {
      "text/html": [
       "<div>\n",
       "<style scoped>\n",
       "    .dataframe tbody tr th:only-of-type {\n",
       "        vertical-align: middle;\n",
       "    }\n",
       "\n",
       "    .dataframe tbody tr th {\n",
       "        vertical-align: top;\n",
       "    }\n",
       "\n",
       "    .dataframe thead th {\n",
       "        text-align: right;\n",
       "    }\n",
       "</style>\n",
       "<table border=\"1\" class=\"dataframe\">\n",
       "  <thead>\n",
       "    <tr style=\"text-align: right;\">\n",
       "      <th></th>\n",
       "      <th>Character</th>\n",
       "      <th>Gender</th>\n",
       "      <th>Line</th>\n",
       "      <th>Words</th>\n",
       "    </tr>\n",
       "  </thead>\n",
       "  <tbody>\n",
       "    <tr>\n",
       "      <th>0</th>\n",
       "      <td>Narrator</td>\n",
       "      <td>&lt;NA&gt;</td>\n",
       "      <td>A small mid-western town in America: Raccoon C...</td>\n",
       "      <td>100</td>\n",
       "    </tr>\n",
       "    <tr>\n",
       "      <th>1</th>\n",
       "      <td>Man</td>\n",
       "      <td>Male</td>\n",
       "      <td>Really?</td>\n",
       "      <td>1</td>\n",
       "    </tr>\n",
       "    <tr>\n",
       "      <th>2</th>\n",
       "      <td>Woman</td>\n",
       "      <td>Female</td>\n",
       "      <td>Hmm, do you think so too?</td>\n",
       "      <td>6</td>\n",
       "    </tr>\n",
       "    <tr>\n",
       "      <th>3</th>\n",
       "      <td>Bald Man</td>\n",
       "      <td>Male</td>\n",
       "      <td>Yeah.</td>\n",
       "      <td>1</td>\n",
       "    </tr>\n",
       "    <tr>\n",
       "      <th>4</th>\n",
       "      <td>White Man</td>\n",
       "      <td>Male</td>\n",
       "      <td>.do about it?</td>\n",
       "      <td>3</td>\n",
       "    </tr>\n",
       "    <tr>\n",
       "      <th>...</th>\n",
       "      <td>...</td>\n",
       "      <td>...</td>\n",
       "      <td>...</td>\n",
       "      <td>...</td>\n",
       "    </tr>\n",
       "    <tr>\n",
       "      <th>228</th>\n",
       "      <td>Billy</td>\n",
       "      <td>Male</td>\n",
       "      <td>Rebecca, hurry!</td>\n",
       "      <td>2</td>\n",
       "    </tr>\n",
       "    <tr>\n",
       "      <th>229</th>\n",
       "      <td>Rebecca</td>\n",
       "      <td>Female</td>\n",
       "      <td>Hey that must be the old mansion Enrico was ta...</td>\n",
       "      <td>11</td>\n",
       "    </tr>\n",
       "    <tr>\n",
       "      <th>230</th>\n",
       "      <td>Rebecca</td>\n",
       "      <td>Female</td>\n",
       "      <td>I guess it's time to say goodbye. Officially, ...</td>\n",
       "      <td>13</td>\n",
       "    </tr>\n",
       "    <tr>\n",
       "      <th>231</th>\n",
       "      <td>Billy</td>\n",
       "      <td>Male</td>\n",
       "      <td>Yeah, I'm just a zombie now.</td>\n",
       "      <td>6</td>\n",
       "    </tr>\n",
       "    <tr>\n",
       "      <th>232</th>\n",
       "      <td>Billy</td>\n",
       "      <td>Male</td>\n",
       "      <td>Thank you, Rebecca.</td>\n",
       "      <td>3</td>\n",
       "    </tr>\n",
       "  </tbody>\n",
       "</table>\n",
       "<p>233 rows × 4 columns</p>\n",
       "</div>"
      ],
      "text/plain": [
       "     Character  Gender                                               Line  \\\n",
       "0     Narrator    <NA>  A small mid-western town in America: Raccoon C...   \n",
       "1          Man    Male                                            Really?   \n",
       "2        Woman  Female                          Hmm, do you think so too?   \n",
       "3     Bald Man    Male                                              Yeah.   \n",
       "4    White Man    Male                                      .do about it?   \n",
       "..         ...     ...                                                ...   \n",
       "228      Billy    Male                                    Rebecca, hurry!   \n",
       "229    Rebecca  Female  Hey that must be the old mansion Enrico was ta...   \n",
       "230    Rebecca  Female  I guess it's time to say goodbye. Officially, ...   \n",
       "231      Billy    Male                       Yeah, I'm just a zombie now.   \n",
       "232      Billy    Male                                Thank you, Rebecca.   \n",
       "\n",
       "     Words  \n",
       "0      100  \n",
       "1        1  \n",
       "2        6  \n",
       "3        1  \n",
       "4        3  \n",
       "..     ...  \n",
       "228      2  \n",
       "229     11  \n",
       "230     13  \n",
       "231      6  \n",
       "232      3  \n",
       "\n",
       "[233 rows x 4 columns]"
      ]
     },
     "execution_count": 231,
     "metadata": {},
     "output_type": "execute_result"
    }
   ],
   "source": [
    "# Count the number of words in each character's dialogue\n",
    "re0_data['Words'] = re0_data['Line'].apply(lambda x: len(x.split(' ')))\n",
    "re0_data"
   ]
  },
  {
   "cell_type": "code",
   "execution_count": 242,
   "id": "ee756a50",
   "metadata": {},
   "outputs": [
    {
     "data": {
      "text/plain": [
       "Gender\n",
       "Male      7.0\n",
       "Female    3.0\n",
       "Name: Words, dtype: float64"
      ]
     },
     "execution_count": 242,
     "metadata": {},
     "output_type": "execute_result"
    }
   ],
   "source": [
    "average_word_count = round(re0_data.groupby('Gender')['Words'].median(), 2)\n",
    "average_word_count.dropna()\n",
    "average_word_count = average_word_count.sort_values(ascending = False)\n",
    "average_word_count"
   ]
  },
  {
   "cell_type": "code",
   "execution_count": 248,
   "id": "f907297a",
   "metadata": {},
   "outputs": [
    {
     "data": {
      "image/png": "[encoded data removed]",
      "text/plain": [
       "<Figure size 600x800 with 1 Axes>"
      ]
     },
     "metadata": {},
     "output_type": "display_data"
    }
   ],
   "source": [
    "# Create the visualization (another bar chart)\n",
    "plt.figure(figsize = (6, 8))\n",
    "plt.title('Average Word Counts by Gender (Resident Evil 0)')\n",
    "plt.xlabel('Gender')\n",
    "plt.ylabel('Average Word Count')\n",
    "\n",
    "# Plot the data\n",
    "ax = average_word_count.plot(kind = 'bar', color = ['SteelBlue', 'FireBrick'])\n",
    "# Add labels for clarity\n",
    "for patch in ax.patches:\n",
    "    ax.annotate(f'{patch.get_height()}', (patch.get_x() + patch.get_width() / 2, patch.get_height() + 0.1),\n",
    "                    ha = 'center', va = 'center')\n",
    "plt.show()"
   ]
  }
 ],
 "metadata": {
  "kernelspec": {
   "display_name": "Python 3",
   "language": "python",
   "name": "python3"
  },
  "language_info": {
   "codemirror_mode": {
    "name": "ipython",
    "version": 3
   },
   "file_extension": ".py",
   "mimetype": "text/x-python",
   "name": "python",
   "nbconvert_exporter": "python",
   "pygments_lexer": "ipython3",
   "version": "3.11.5"
  }
 },
 "nbformat": 4,
 "nbformat_minor": 5
}
