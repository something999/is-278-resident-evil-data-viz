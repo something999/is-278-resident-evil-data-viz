{
 "cells": [
  {
   "cell_type": "code",
   "execution_count": null,
   "id": "fb1333c5-16e3-47ab-8f04-d45da5ff9a4d",
   "metadata": {},
   "outputs": [],
   "source": []
  }
 ],
 "metadata": {
  "kernelspec": {
   "display_name": "",
   "name": ""
  },
  "language_info": {
   "name": ""
  }
 },
 "nbformat": 4,
 "nbformat_minor": 5
}
